{
 "cells": [
  {
   "cell_type": "markdown",
   "id": "17c78b56-fad3-4560-b9ba-2ce8ce28516b",
   "metadata": {},
   "source": [
    "Week 6 Independant Lab: Grade Entry System <br>\n",
    "\n",
    "Author: Parker Munsey <br>\n",
    "Course: BGEN632 Grad. Intro. to Python <br>\n",
    "Term: Spring 2025 <br>\n",
    "Date Due: April 7, 2025"
   ]
  },
  {
   "cell_type": "code",
   "execution_count": 13,
   "id": "94d9b10a-12e7-4842-9878-e2a605cd4113",
   "metadata": {},
   "outputs": [
    {
     "name": "stdout",
     "output_type": "stream",
     "text": [
      "Welcome to the Grade Entry System\n",
      "\n",
      "--- Initial GPA Metrics ---\n",
      "\n",
      "GPA Metrics:\n",
      "Max GPA: 3.8\n",
      "Min GPA: 0\n",
      "Average GPA: 2.58\n",
      "Grade Entry System Menu:\n",
      "1. Student Information Query\n",
      "2. Student Information Entry\n",
      "3. Query GPA Metrics\n",
      "4. Academic Violations\n",
      "5. Quit Program\n"
     ]
    },
    {
     "name": "stdin",
     "output_type": "stream",
     "text": [
      "Choose an option (1-5):  3\n"
     ]
    },
    {
     "name": "stdout",
     "output_type": "stream",
     "text": [
      "\n",
      "GPA Metrics:\n",
      "Max GPA: 3.8\n",
      "Min GPA: 0\n",
      "Average GPA: 2.58\n",
      "Grade Entry System Menu:\n",
      "1. Student Information Query\n",
      "2. Student Information Entry\n",
      "3. Query GPA Metrics\n",
      "4. Academic Violations\n",
      "5. Quit Program\n"
     ]
    },
    {
     "name": "stdin",
     "output_type": "stream",
     "text": [
      "Choose an option (1-5):  2\n"
     ]
    },
    {
     "name": "stdout",
     "output_type": "stream",
     "text": [
      "\n",
      "Enter new student information:\n"
     ]
    },
    {
     "name": "stdin",
     "output_type": "stream",
     "text": [
      "First name:  Parker\n",
      "Last name:  Munsey\n",
      "Major:  M.I.S\n",
      "GPA:  3.3\n"
     ]
    },
    {
     "name": "stdout",
     "output_type": "stream",
     "text": [
      "Parker Munsey added successfully.\n",
      "Grade Entry System Menu:\n",
      "1. Student Information Query\n",
      "2. Student Information Entry\n",
      "3. Query GPA Metrics\n",
      "4. Academic Violations\n",
      "5. Quit Program\n"
     ]
    },
    {
     "name": "stdin",
     "output_type": "stream",
     "text": [
      "Choose an option (1-5):  2\n"
     ]
    },
    {
     "name": "stdout",
     "output_type": "stream",
     "text": [
      "\n",
      "Enter new student information:\n"
     ]
    },
    {
     "name": "stdin",
     "output_type": "stream",
     "text": [
      "First name:  Jason\n",
      "Last name:  Bourne\n",
      "Major:  Secret Agent \n",
      "GPA:  3.5\n"
     ]
    },
    {
     "name": "stdout",
     "output_type": "stream",
     "text": [
      "Jason Bourne added successfully.\n",
      "Grade Entry System Menu:\n",
      "1. Student Information Query\n",
      "2. Student Information Entry\n",
      "3. Query GPA Metrics\n",
      "4. Academic Violations\n",
      "5. Quit Program\n"
     ]
    },
    {
     "name": "stdin",
     "output_type": "stream",
     "text": [
      "Choose an option (1-5):  3\n"
     ]
    },
    {
     "name": "stdout",
     "output_type": "stream",
     "text": [
      "\n",
      "GPA Metrics:\n",
      "Max GPA: 3.8\n",
      "Min GPA: 0\n",
      "Average GPA: 2.81\n",
      "Grade Entry System Menu:\n",
      "1. Student Information Query\n",
      "2. Student Information Entry\n",
      "3. Query GPA Metrics\n",
      "4. Academic Violations\n",
      "5. Quit Program\n"
     ]
    },
    {
     "name": "stdin",
     "output_type": "stream",
     "text": [
      "Choose an option (1-5):  4\n"
     ]
    },
    {
     "name": "stdout",
     "output_type": "stream",
     "text": [
      "\n",
      "Select a student to assign a violation:\n",
      "1. Carmen Berzatto\n",
      "2. Sydney Adamu\n",
      "3. Neil Fak\n",
      "4. Marcus Brooks\n",
      "5. Parker Munsey\n",
      "6. Jason Bourne\n"
     ]
    },
    {
     "name": "stdin",
     "output_type": "stream",
     "text": [
      "Enter student number:  5\n"
     ]
    },
    {
     "name": "stdout",
     "output_type": "stream",
     "text": [
      "\n",
      "Violation Options:\n",
      "1. Copying Homework\n",
      "2. Illegal Dancing\n",
      "3. Showing up late\n",
      "4. Cheating on quiz\n",
      "5. Plagiarism\n"
     ]
    },
    {
     "name": "stdin",
     "output_type": "stream",
     "text": [
      "Choose a violation:  2\n"
     ]
    },
    {
     "name": "stdout",
     "output_type": "stream",
     "text": [
      "Violation 'Illegal Dancing' assigned to Parker Munsey.\n",
      "Grade Entry System Menu:\n",
      "1. Student Information Query\n",
      "2. Student Information Entry\n",
      "3. Query GPA Metrics\n",
      "4. Academic Violations\n",
      "5. Quit Program\n"
     ]
    },
    {
     "name": "stdin",
     "output_type": "stream",
     "text": [
      "Choose an option (1-5):  4\n"
     ]
    },
    {
     "name": "stdout",
     "output_type": "stream",
     "text": [
      "\n",
      "Select a student to assign a violation:\n",
      "1. Carmen Berzatto\n",
      "2. Sydney Adamu\n",
      "3. Neil Fak\n",
      "4. Marcus Brooks\n",
      "5. Parker Munsey\n",
      "6. Jason Bourne\n"
     ]
    },
    {
     "name": "stdin",
     "output_type": "stream",
     "text": [
      "Enter student number:  3\n"
     ]
    },
    {
     "name": "stdout",
     "output_type": "stream",
     "text": [
      "\n",
      "Violation Options:\n",
      "1. Copying Homework\n",
      "2. Illegal Dancing\n",
      "3. Showing up late\n",
      "4. Cheating on quiz\n",
      "5. Plagiarism\n"
     ]
    },
    {
     "name": "stdin",
     "output_type": "stream",
     "text": [
      "Choose a violation:  1\n"
     ]
    },
    {
     "name": "stdout",
     "output_type": "stream",
     "text": [
      "Violation 'Copying Homework' assigned to Neil Fak.\n",
      "Grade Entry System Menu:\n",
      "1. Student Information Query\n",
      "2. Student Information Entry\n",
      "3. Query GPA Metrics\n",
      "4. Academic Violations\n",
      "5. Quit Program\n"
     ]
    },
    {
     "name": "stdin",
     "output_type": "stream",
     "text": [
      "Choose an option (1-5):  1\n"
     ]
    },
    {
     "name": "stdout",
     "output_type": "stream",
     "text": [
      "\n",
      "Student Information:\n",
      "1. Carmen Berzatto | Major: Culinary Arts | GPA: 3.2 | Violation: None\n",
      "2. Sydney Adamu | Major: Nursing | GPA: 3.8 | Violation: None\n",
      "3. Neil Fak | Major: Psychology | GPA: 2.9 | Violation: Copying Homework\n",
      "4. Marcus Brooks | Major: Business | GPA: 3 | Violation: None\n",
      "5. Parker Munsey | Major: M.I.S | GPA: 0 | Violation: Illegal Dancing\n",
      "6. Jason Bourne | Major: Secret Agent  | GPA: 3.3 | Violation: None\n",
      "Grade Entry System Menu:\n",
      "1. Student Information Query\n",
      "2. Student Information Entry\n",
      "3. Query GPA Metrics\n",
      "4. Academic Violations\n",
      "5. Quit Program\n"
     ]
    },
    {
     "name": "stdin",
     "output_type": "stream",
     "text": [
      "Choose an option (1-5):  5\n"
     ]
    },
    {
     "name": "stdout",
     "output_type": "stream",
     "text": [
      "Goodbye.\n"
     ]
    }
   ],
   "source": [
    "first_names = [\"Carmen\", \"Sydney\", \"Neil\", \"Marcus\"]\n",
    "last_names = [\"Berzatto\", \"Adamu\", \"Fak\", \"Brooks\"]\n",
    "majors = [\"Culinary Arts\", \"Nursing\", \"Psychology\", \"Business\"]\n",
    "gpas = [3.2, 3.8, 2.9, 3,0]\n",
    "violations = [\"\"] * 4\n",
    "\n",
    "violation_options = [\n",
    "    \"Copying Homework\",\n",
    "    \"Illegal Dancing\",\n",
    "    \"Showing up late\",\n",
    "    \"Cheating on quiz\",\n",
    "    \"Plagiarism\"\n",
    "]\n",
    "\n",
    "def print_menu():\n",
    "    print(\"Grade Entry System Menu:\")\n",
    "    print(\"1. Student Information Query\")\n",
    "    print(\"2. Student Information Entry\")\n",
    "    print(\"3. Query GPA Metrics\")\n",
    "    print(\"4. Academic Violations\")\n",
    "    print(\"5. Quit Program\")\n",
    "\n",
    "def query_students():\n",
    "    print(\"\\nStudent Information:\")\n",
    "    for i in range(len(first_names)):\n",
    "        print(f\"{i + 1}. {first_names[i]} {last_names[i]} | Major: {majors[i]} | GPA: {gpas[i]} | Violation: {violations[i] if violations[i] else 'None'}\")\n",
    "\n",
    "def add_student():\n",
    "    print(\"\\nEnter new student information:\")\n",
    "    first = input(\"First name: \")\n",
    "    last = input(\"Last name: \")\n",
    "    major = input(\"Major: \")\n",
    "    gpa = float(input(\"GPA: \"))\n",
    "    \n",
    "    first_names.append(first)\n",
    "    last_names.append(last)\n",
    "    majors.append(major)\n",
    "    gpas.append(gpa)\n",
    "    violations.append(\"\")\n",
    "\n",
    "    print(f\"{first} {last} added successfully.\")\n",
    "\n",
    "def query_gpa_metrics():\n",
    "    if not gpas:\n",
    "        print(\"No GPA data available.\")\n",
    "        return\n",
    "    max_gpa = max(gpas)\n",
    "    min_gpa = min(gpas)\n",
    "    avg_gpa = sum(gpas) / len(gpas)\n",
    "    print(f\"\\nGPA Metrics:\\nMax GPA: {max_gpa}\\nMin GPA: {min_gpa}\\nAverage GPA: {avg_gpa:.2f}\")\n",
    "\n",
    "def handle_violations():\n",
    "    print(\"\\nSelect a student to assign a violation:\")\n",
    "    for i in range(len(first_names)):\n",
    "        print(f\"{i + 1}. {first_names[i]} {last_names[i]}\")\n",
    "    index = int(input(\"Enter student number: \")) - 1\n",
    "\n",
    "    print(\"\\nViolation Options:\")\n",
    "    for i, v in enumerate(violation_options):\n",
    "        print(f\"{i + 1}. {v}\")\n",
    "    choice = int(input(\"Choose a violation: \")) - 1\n",
    "\n",
    "    violations[index] = violation_options[choice]\n",
    "    print(f\"Violation '{violation_options[choice]}' assigned to {first_names[index]} {last_names[index]}.\")\n",
    "\n",
    "# Run program\n",
    "print(\"Welcome to the Grade Entry System\")\n",
    "\n",
    "# Query GPA before adding students\n",
    "print(\"\\n--- Initial GPA Metrics ---\")\n",
    "query_gpa_metrics()\n",
    "\n",
    "while True:\n",
    "    print_menu()\n",
    "    selection = input(\"Choose an option (1-5): \")\n",
    "\n",
    "    if selection == \"1\":\n",
    "        query_students()\n",
    "    elif selection == \"2\":\n",
    "        add_student()\n",
    "    elif selection == \"3\":\n",
    "        query_gpa_metrics()\n",
    "    elif selection == \"4\":\n",
    "        handle_violations()\n",
    "    elif selection == \"5\":\n",
    "        print(\"Goodbye.\")\n",
    "        break\n",
    "    else:\n",
    "        print(\"Invalid option. Please choose 1-5.\")"
   ]
  },
  {
   "cell_type": "markdown",
   "id": "8680ec0b-b60f-4ef0-ba14-142e2ade19ba",
   "metadata": {},
   "source": [
    "References: \n",
    "\n",
    "**Built-in-Functions ('max(), 'min()', 'sum()'):** \n",
    "  [W3Schools - Python Built-in Functions](https://www.w3schools.com/python/python_ref_functions.asp)\n",
    "\n",
    "**Looping over multiple lists** \n",
    "  [Stack Overflow - Loop over multiple lists](https://stackoverflow.com/questions/5365562/python-how-to-loop-over-two-lists-simultaneously)\n",
    "\n",
    "**Using `[\"\"] * 4` for list initialization:**  \n",
    "  [Python Docs - Multidimensional List Pitfalls](https://docs.python.org/3/faq/programming.html#how-do-i-create-a-multidimensional-list)\n",
    "\n",
    "ChatBot Questions: \n",
    "\n",
    "**Format** https://github.com/parkermunsey/week6labs/blob/main/assets/ChatBot_Reference(1).png\n",
    "\n",
    "**Format** https://github.com/parkermunsey/week6labs/blob/main/assets/ChatBot_Reference(2).png\n",
    "\n",
    "**Placeholder for Violation** https://github.com/parkermunsey/week6labs/blob/main/assets/ChatBot_Reference(3).png\n",
    "\n"
   ]
  },
  {
   "cell_type": "code",
   "execution_count": null,
   "id": "4f371c4d-8089-4f6e-ac64-cddd8f42b2ac",
   "metadata": {},
   "outputs": [],
   "source": []
  }
 ],
 "metadata": {
  "kernelspec": {
   "display_name": "Python 3 (ipykernel)",
   "language": "python",
   "name": "python3"
  },
  "language_info": {
   "codemirror_mode": {
    "name": "ipython",
    "version": 3
   },
   "file_extension": ".py",
   "mimetype": "text/x-python",
   "name": "python",
   "nbconvert_exporter": "python",
   "pygments_lexer": "ipython3",
   "version": "3.12.7"
  }
 },
 "nbformat": 4,
 "nbformat_minor": 5
}
