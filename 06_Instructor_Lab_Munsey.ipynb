{
 "cells": [
  {
   "cell_type": "markdown",
   "id": "4c88c99d-3ead-4aa4-8cdd-9674d3deae86",
   "metadata": {},
   "source": [
    "Week 6 Instructor-led Lab: Magic Crystal Ball <br>\n",
    "\n",
    "Author: Parker Munsey <br>\n",
    "Course: BGEN632 Grad. Intro. to Python <br>\n",
    "Term: Spring 2025 <br>\n",
    "Date Due: April 7, 2025 <br>"
   ]
  },
  {
   "cell_type": "code",
   "execution_count": 9,
   "id": "43652f53-ee61-4dbc-9b81-03a3af03110b",
   "metadata": {},
   "outputs": [],
   "source": [
    "import random as random"
   ]
  },
  {
   "cell_type": "code",
   "execution_count": 10,
   "id": "cdaef3c6-0303-4288-9754-8ea6c0913230",
   "metadata": {},
   "outputs": [
    {
     "name": "stdout",
     "output_type": "stream",
     "text": [
      "Welcome to my Magic 8 Ball\n",
      "\n",
      "1. Ask a question\n",
      "2. Review questions and responses\n",
      "3. Complete services and pay\n"
     ]
    },
    {
     "name": "stdin",
     "output_type": "stream",
     "text": [
      "Choose an option (1, 2, or 3):  1\n"
     ]
    },
    {
     "name": "stdout",
     "output_type": "stream",
     "text": [
      "Ask your question now\n"
     ]
    },
    {
     "name": "stdin",
     "output_type": "stream",
     "text": [
      "Your question:  Will this code work? \n"
     ]
    },
    {
     "name": "stdout",
     "output_type": "stream",
     "text": [
      "\n",
      "My reply is no\n",
      "\n",
      "1. Ask another question\n",
      "2. Review questions and responses\n",
      "3. Complete services and pay\n"
     ]
    },
    {
     "name": "stdin",
     "output_type": "stream",
     "text": [
      "Choose an option (1, 2, or 3):  1\n"
     ]
    },
    {
     "name": "stdout",
     "output_type": "stream",
     "text": [
      "Ask your question now\n"
     ]
    },
    {
     "name": "stdin",
     "output_type": "stream",
     "text": [
      "Your question:  Will I ever get married? \n"
     ]
    },
    {
     "name": "stdout",
     "output_type": "stream",
     "text": [
      "\n",
      "Not this time coder boy\n",
      "\n",
      "1. Ask another question\n",
      "2. Review questions and responses\n",
      "3. Complete services and pay\n"
     ]
    },
    {
     "name": "stdin",
     "output_type": "stream",
     "text": [
      "Choose an option (1, 2, or 3):  2\n"
     ]
    },
    {
     "name": "stdout",
     "output_type": "stream",
     "text": [
      "\n",
      "Here are the questions and their responses:\n",
      "Question: \"Will this code work? \"\n",
      "Response: \"My reply is no\"\n",
      "Question: \"Will I ever get married? \"\n",
      "Response: \"Not this time coder boy\"\n",
      "\n",
      "1. Ask another question\n",
      "2. Review questions and responses\n",
      "3. Complete services and pay\n"
     ]
    },
    {
     "name": "stdin",
     "output_type": "stream",
     "text": [
      "Choose an option (1, 2, or 3):  3\n"
     ]
    },
    {
     "name": "stdout",
     "output_type": "stream",
     "text": [
      "Thank you for playing\n",
      "You asked 2 question(s). You owe $60.00 for today.\n"
     ]
    }
   ],
   "source": [
    "fortune_responses = [\n",
    "    \"It is certain\",\n",
    "    \"It is decidedly so\",\n",
    "    \"That question requires greater monetary compensation\",\n",
    "    \"Reply is hazy; try again, with more money\",\n",
    "    \"Concentrate and ask again\",\n",
    "    \"My reply is no\",\n",
    "    \"Outlook is not so good\",\n",
    "    \"Very doubtful\",\n",
    "    \"Not this time coder boy\",\n",
    "    \"Please not before my coffee.\",\n",
    "    \"That's your question?\"\n",
    "]\n",
    "\n",
    "# Keep track of whether a question has been asked and cost\n",
    "question_asked = False\n",
    "service_cost = 0.0\n",
    "\n",
    "# Store questions and responses\n",
    "questions = []\n",
    "responses = []\n",
    "\n",
    "print(\"Welcome to my Magic 8 Ball\")\n",
    "\n",
    "while True:\n",
    "    end_service = False\n",
    "\n",
    "    if not question_asked:\n",
    "        prompt_text = \"1. Ask a question\"\n",
    "    else:\n",
    "        prompt_text = \"1. Ask another question\"\n",
    "\n",
    "    print(\"\\n\" + prompt_text)\n",
    "    print(\"2. Review questions and responses\")\n",
    "    print(\"3. Complete services and pay\")\n",
    "\n",
    "    selection = input(\"Choose an option (1, 2, or 3): \")\n",
    "\n",
    "    if selection == \"1\":\n",
    "        print(\"Ask your question now\")\n",
    "        user_question = input(\"Your question: \")\n",
    "        questions.append(user_question)\n",
    "\n",
    "        question_asked = True\n",
    "        random_response = random.choice(fortune_responses)\n",
    "        responses.append(random_response)\n",
    "\n",
    "        print(f\"\\n{random_response}\")\n",
    "        service_cost += 30.00\n",
    "\n",
    "    elif selection == \"2\":\n",
    "        if not questions:\n",
    "            print(\"You haven't asked any questions yet.\")\n",
    "        else:\n",
    "            print(\"\\nHere are the questions and their responses:\")\n",
    "            for i in range(len(questions)):\n",
    "                print(f'Question: \"{questions[i]}\"')\n",
    "                print(f'Response: \"{responses[i]}\"')\n",
    "\n",
    "    elif selection == \"3\":\n",
    "        end_service = True\n",
    "        print(\"Thank you for playing\")\n",
    "        print(f\"You asked {len(questions)} question(s). You owe ${service_cost:.2f} for today.\")\n",
    "\n",
    "    else:\n",
    "        print(\"Invalid option. Please choose 1, 2, or 3.\")\n",
    "\n",
    "    if end_service:\n",
    "        break\n"
   ]
  },
  {
   "cell_type": "code",
   "execution_count": null,
   "id": "022c9891-fe9a-4365-a37e-93845c4bd9e1",
   "metadata": {},
   "outputs": [],
   "source": []
  }
 ],
 "metadata": {
  "kernelspec": {
   "display_name": "Python 3 (ipykernel)",
   "language": "python",
   "name": "python3"
  },
  "language_info": {
   "codemirror_mode": {
    "name": "ipython",
    "version": 3
   },
   "file_extension": ".py",
   "mimetype": "text/x-python",
   "name": "python",
   "nbconvert_exporter": "python",
   "pygments_lexer": "ipython3",
   "version": "3.12.7"
  }
 },
 "nbformat": 4,
 "nbformat_minor": 5
}
